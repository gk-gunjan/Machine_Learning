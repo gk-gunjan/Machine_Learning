{
 "cells": [
  {
   "cell_type": "code",
   "execution_count": 1,
   "metadata": {},
   "outputs": [],
   "source": [
    "import numpy as np"
   ]
  },
  {
   "cell_type": "code",
   "execution_count": 2,
   "metadata": {},
   "outputs": [],
   "source": [
    "def fit(X_train,Y_train):\n",
    "    result={}\n",
    "    class_values=set(Y_train) #all unique class values\n",
    "    for current_class in class_values:\n",
    "        result[current_class]={} #dict to store ele of current class\n",
    "        result['total_data']=len(Y_train) #len of y_train is total_data available\n",
    "        current_class_rows=(Y_train==current_class) #for current_row we get only that value which are true and belong to current class\n",
    "        x_train_current=X_train[current_class_rows] #store them in x_train_current\n",
    "        y_train_current=Y_train[current_class_rows] #all well as y_train_current\n",
    "        num_features=X_train.shape[1] #number of features available in x_train or size of columns in x_train\n",
    "        result[cureent_class]['total_count']=len(y_train_current) # store the count of cureent_class total count\n",
    "        for j in range(1,num_features + 1):\n",
    "            result[current_class][j]={} # for any current_calss jth feature dict\n",
    "            all_possible_values=set(X_train[:,j]) #all unique possible values of jth column \n",
    "            for current_value in all_possible_values: #now iterate through all possible values\n",
    "                result[current_class][j][current_value]=(x_train_curent[:,j]==current_value).sum() #next line\n",
    "                #store the sum of or count of current_class jth feature current_value count or sum of current value in jth feature in current_class             "
   ]
  },
  {
   "cell_type": "code",
   "execution_count": null,
   "metadata": {},
   "outputs": [],
   "source": []
  },
  {
   "cell_type": "code",
   "execution_count": null,
   "metadata": {},
   "outputs": [],
   "source": [
    "    "
   ]
  }
 ],
 "metadata": {
  "kernelspec": {
   "display_name": "Python 3",
   "language": "python",
   "name": "python3"
  },
  "language_info": {
   "codemirror_mode": {
    "name": "ipython",
    "version": 3
   },
   "file_extension": ".py",
   "mimetype": "text/x-python",
   "name": "python",
   "nbconvert_exporter": "python",
   "pygments_lexer": "ipython3",
   "version": "3.8.5"
  }
 },
 "nbformat": 4,
 "nbformat_minor": 4
}
