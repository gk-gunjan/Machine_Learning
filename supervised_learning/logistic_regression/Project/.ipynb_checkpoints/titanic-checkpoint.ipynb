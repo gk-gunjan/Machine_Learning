{
 "cells": [
  {
   "cell_type": "code",
   "execution_count": 1,
   "metadata": {},
   "outputs": [
    {
     "name": "stdout",
     "output_type": "stream",
     "text": [
      "   Pclass                                            Name     Sex   Age  \\\n",
      "0       2   Weisz, Mrs. Leopold (Mathilde Francoise Pede)  female  29.0   \n",
      "1       3               Williams, Mr. Howard Hugh \"Harry\"    male   NaN   \n",
      "2       2  Morley, Mr. Henry Samuel (\"Mr Henry Marshall\")    male  39.0   \n",
      "3       3     Palsson, Mrs. Nils (Alma Cornelia Berglund)  female  29.0   \n",
      "4       3                          Sutehall, Mr. Henry Jr    male  25.0   \n",
      "\n",
      "   SibSp  Parch           Ticket    Fare Cabin Embarked  Survived  \n",
      "0      1      0           228414  26.000   NaN        S         1  \n",
      "1      0      0         A/5 2466   8.050   NaN        S         0  \n",
      "2      0      0           250655  26.000   NaN        S         0  \n",
      "3      0      4           349909  21.075   NaN        S         0  \n",
      "4      0      0  SOTON/OQ 392076   7.050   NaN        S         0  \n"
     ]
    }
   ],
   "source": [
    "import numpy as np\n",
    "import pandas as pd\n",
    "import math as m\n",
    "x_train=pd.read_csv('training_titanic_x_y_train.csv')\n",
    "print(x_train.head())\n",
    "x_test=pd.read_csv('test_titanic_x_test.csv')"
   ]
  },
  {
   "cell_type": "code",
   "execution_count": 2,
   "metadata": {},
   "outputs": [
    {
     "name": "stdout",
     "output_type": "stream",
     "text": [
      "   Pclass     Sex   Age  SibSp  Parch    Fare Cabin Embarked  Survived\n",
      "0       2  female  29.0      1      0  26.000   NaN        S         1\n",
      "1       3    male   NaN      0      0   8.050   NaN        S         0\n",
      "2       2    male  39.0      0      0  26.000   NaN        S         0\n",
      "3       3  female  29.0      0      4  21.075   NaN        S         0\n",
      "4       3    male  25.0      0      0   7.050   NaN        S         0\n",
      "   Pclass     Sex   Age  SibSp  Parch     Fare Cabin Embarked\n",
      "0       2    male   8.0      1      1  36.7500   NaN        S\n",
      "1       1  female  49.0      0      0  25.9292   D17        S\n",
      "2       3    male   NaN      0      0   7.7375   NaN        Q\n",
      "3       2  female  24.0      2      1  27.0000   NaN        S\n",
      "4       1    male  36.0      0      0  26.2875   E25        S\n"
     ]
    }
   ],
   "source": [
    "x_train.drop('Name',axis=1,inplace=True)\n",
    "x_train.drop('Ticket',axis=1,inplace=True)\n",
    "# x_train.drop('Cabin',axis=1,inplace=True)\n",
    "\n",
    "x_test.drop('Name',axis=1,inplace=True)\n",
    "x_test.drop('Ticket',axis=1,inplace=True)\n",
    "# x_test.drop('Cabin',axis=1,inplace=True)\n",
    "\n",
    "print(x_train.head())\n",
    "x_train.isnull().sum()\n",
    "print(x_test.head())"
   ]
  },
  {
   "cell_type": "code",
   "execution_count": 3,
   "metadata": {},
   "outputs": [
    {
     "name": "stdout",
     "output_type": "stream",
     "text": [
      "   Pclass     Sex   Age  SibSp  Parch    Fare Cabin Embarked  Survived\n",
      "0       2  female  29.0      1      0  26.000   NaN        S         1\n",
      "1       3    male  29.0      0      0   8.050   NaN        S         0\n",
      "2       2    male  39.0      0      0  26.000   NaN        S         0\n",
      "3       3  female  29.0      0      4  21.075   NaN        S         0\n",
      "4       3    male  25.0      0      0   7.050   NaN        S         0\n"
     ]
    },
    {
     "data": {
      "text/plain": [
       "Pclass        0\n",
       "Sex           0\n",
       "Age           0\n",
       "SibSp         0\n",
       "Parch         0\n",
       "Fare          0\n",
       "Cabin       514\n",
       "Embarked      0\n",
       "Survived      0\n",
       "dtype: int64"
      ]
     },
     "execution_count": 3,
     "metadata": {},
     "output_type": "execute_result"
    }
   ],
   "source": [
    "x_train.Age.fillna(x_train.Age.median(),inplace=True)\n",
    "x_train.Embarked.fillna(x_train.Embarked.mode()[0],inplace=True)\n",
    "# x_train.Cabin.fillna('U',inplace=True)\n",
    "\n",
    "\n",
    "x_test.Age.fillna(x_test.Age.median(),inplace=True)\n",
    "x_test.Embarked.fillna(x_test.Embarked.mode()[0],inplace=True)\n",
    "# x_test.Cabin.fillna('U',inplace=True)\n",
    "\n",
    "\n",
    "print(x_train.head())\n",
    "x_train.isnull().sum()"
   ]
  },
  {
   "cell_type": "code",
   "execution_count": 4,
   "metadata": {},
   "outputs": [
    {
     "name": "stdout",
     "output_type": "stream",
     "text": [
      "   Pclass  Sex   Age  SibSp  Parch    Fare  Cabin  Embarked  Survived\n",
      "0       2    0  29.0      1      0  26.000   True         0         1\n",
      "1       3    1  29.0      0      0   8.050   True         0         0\n",
      "2       2    1  39.0      0      0  26.000   True         0         0\n",
      "3       3    0  29.0      0      4  21.075   True         0         0\n",
      "4       3    1  25.0      0      0   7.050   True         0         0\n",
      "   Pclass  Sex   Age  SibSp  Parch     Fare  Cabin  Embarked\n",
      "0       2    1   8.0      1      1  36.7500   True         0\n",
      "1       1    0  49.0      0      0  25.9292  False         0\n",
      "2       3    1  27.0      0      0   7.7375   True         2\n",
      "3       2    0  24.0      2      1  27.0000   True         0\n",
      "4       1    1  36.0      0      0  26.2875  False         0\n"
     ]
    },
    {
     "data": {
      "text/html": [
       "<div>\n",
       "<style scoped>\n",
       "    .dataframe tbody tr th:only-of-type {\n",
       "        vertical-align: middle;\n",
       "    }\n",
       "\n",
       "    .dataframe tbody tr th {\n",
       "        vertical-align: top;\n",
       "    }\n",
       "\n",
       "    .dataframe thead th {\n",
       "        text-align: right;\n",
       "    }\n",
       "</style>\n",
       "<table border=\"1\" class=\"dataframe\">\n",
       "  <thead>\n",
       "    <tr style=\"text-align: right;\">\n",
       "      <th></th>\n",
       "      <th>Pclass</th>\n",
       "      <th>Sex</th>\n",
       "      <th>Age</th>\n",
       "      <th>SibSp</th>\n",
       "      <th>Parch</th>\n",
       "      <th>Fare</th>\n",
       "      <th>Embarked</th>\n",
       "      <th>Survived</th>\n",
       "    </tr>\n",
       "  </thead>\n",
       "  <tbody>\n",
       "    <tr>\n",
       "      <th>count</th>\n",
       "      <td>668.000000</td>\n",
       "      <td>668.000000</td>\n",
       "      <td>668.000000</td>\n",
       "      <td>668.000000</td>\n",
       "      <td>668.000000</td>\n",
       "      <td>668.000000</td>\n",
       "      <td>668.000000</td>\n",
       "      <td>668.000000</td>\n",
       "    </tr>\n",
       "    <tr>\n",
       "      <th>mean</th>\n",
       "      <td>2.296407</td>\n",
       "      <td>0.639222</td>\n",
       "      <td>29.562126</td>\n",
       "      <td>0.528443</td>\n",
       "      <td>0.407186</td>\n",
       "      <td>32.064552</td>\n",
       "      <td>0.348802</td>\n",
       "      <td>0.402695</td>\n",
       "    </tr>\n",
       "    <tr>\n",
       "      <th>std</th>\n",
       "      <td>0.831638</td>\n",
       "      <td>0.480586</td>\n",
       "      <td>12.756626</td>\n",
       "      <td>1.080327</td>\n",
       "      <td>0.854695</td>\n",
       "      <td>45.320835</td>\n",
       "      <td>0.614333</td>\n",
       "      <td>0.490808</td>\n",
       "    </tr>\n",
       "    <tr>\n",
       "      <th>min</th>\n",
       "      <td>1.000000</td>\n",
       "      <td>0.000000</td>\n",
       "      <td>0.670000</td>\n",
       "      <td>0.000000</td>\n",
       "      <td>0.000000</td>\n",
       "      <td>0.000000</td>\n",
       "      <td>0.000000</td>\n",
       "      <td>0.000000</td>\n",
       "    </tr>\n",
       "    <tr>\n",
       "      <th>25%</th>\n",
       "      <td>2.000000</td>\n",
       "      <td>0.000000</td>\n",
       "      <td>23.000000</td>\n",
       "      <td>0.000000</td>\n",
       "      <td>0.000000</td>\n",
       "      <td>7.925000</td>\n",
       "      <td>0.000000</td>\n",
       "      <td>0.000000</td>\n",
       "    </tr>\n",
       "    <tr>\n",
       "      <th>50%</th>\n",
       "      <td>3.000000</td>\n",
       "      <td>1.000000</td>\n",
       "      <td>29.000000</td>\n",
       "      <td>0.000000</td>\n",
       "      <td>0.000000</td>\n",
       "      <td>14.750000</td>\n",
       "      <td>0.000000</td>\n",
       "      <td>0.000000</td>\n",
       "    </tr>\n",
       "    <tr>\n",
       "      <th>75%</th>\n",
       "      <td>3.000000</td>\n",
       "      <td>1.000000</td>\n",
       "      <td>35.000000</td>\n",
       "      <td>1.000000</td>\n",
       "      <td>0.000000</td>\n",
       "      <td>31.275000</td>\n",
       "      <td>1.000000</td>\n",
       "      <td>1.000000</td>\n",
       "    </tr>\n",
       "    <tr>\n",
       "      <th>max</th>\n",
       "      <td>3.000000</td>\n",
       "      <td>1.000000</td>\n",
       "      <td>80.000000</td>\n",
       "      <td>8.000000</td>\n",
       "      <td>6.000000</td>\n",
       "      <td>512.329200</td>\n",
       "      <td>2.000000</td>\n",
       "      <td>1.000000</td>\n",
       "    </tr>\n",
       "  </tbody>\n",
       "</table>\n",
       "</div>"
      ],
      "text/plain": [
       "           Pclass         Sex         Age       SibSp       Parch        Fare  \\\n",
       "count  668.000000  668.000000  668.000000  668.000000  668.000000  668.000000   \n",
       "mean     2.296407    0.639222   29.562126    0.528443    0.407186   32.064552   \n",
       "std      0.831638    0.480586   12.756626    1.080327    0.854695   45.320835   \n",
       "min      1.000000    0.000000    0.670000    0.000000    0.000000    0.000000   \n",
       "25%      2.000000    0.000000   23.000000    0.000000    0.000000    7.925000   \n",
       "50%      3.000000    1.000000   29.000000    0.000000    0.000000   14.750000   \n",
       "75%      3.000000    1.000000   35.000000    1.000000    0.000000   31.275000   \n",
       "max      3.000000    1.000000   80.000000    8.000000    6.000000  512.329200   \n",
       "\n",
       "         Embarked    Survived  \n",
       "count  668.000000  668.000000  \n",
       "mean     0.348802    0.402695  \n",
       "std      0.614333    0.490808  \n",
       "min      0.000000    0.000000  \n",
       "25%      0.000000    0.000000  \n",
       "50%      0.000000    0.000000  \n",
       "75%      1.000000    1.000000  \n",
       "max      2.000000    1.000000  "
      ]
     },
     "execution_count": 4,
     "metadata": {},
     "output_type": "execute_result"
    }
   ],
   "source": [
    "def sex_(x):\n",
    "    if x=='male':\n",
    "        return 1\n",
    "    return 0\n",
    "\n",
    "def embarked_(x):\n",
    "    if x=='S':\n",
    "        return 0\n",
    "    elif x=='C':\n",
    "        return 1\n",
    "    else:\n",
    "        return 2\n",
    "\n",
    "def cabin_(x):\n",
    "    return x!=x \n",
    "\n",
    "\n",
    "x_test['Cabin']=x_test.Cabin.apply(cabin_)\n",
    "x_test['Sex']=x_test.Sex.apply(sex_)\n",
    "x_test.Embarked=x_test.Embarked.apply(embarked_)\n",
    "\n",
    "\n",
    "x_train['Cabin']=x_train.Cabin.apply(cabin_)\n",
    "x_train['Sex']=x_train.Sex.apply(sex_)\n",
    "x_train.Embarked=x_train.Embarked.apply(embarked_)\n",
    "\n",
    "\n",
    "print(x_train.head(5))\n",
    "print(x_test.head(5))\n",
    "x_train.describe()"
   ]
  },
  {
   "cell_type": "code",
   "execution_count": 5,
   "metadata": {},
   "outputs": [
    {
     "name": "stdout",
     "output_type": "stream",
     "text": [
      "(668, 80) (223, 80)\n",
      "(668, 80) (223, 80)\n"
     ]
    },
    {
     "data": {
      "text/plain": [
       "LogisticRegression(C=10000, max_iter=10000, solver='liblinear')"
      ]
     },
     "execution_count": 5,
     "metadata": {},
     "output_type": "execute_result"
    }
   ],
   "source": [
    "from sklearn import linear_model\n",
    "from sklearn.preprocessing import StandardScaler\n",
    "from sklearn.preprocessing import MinMaxScaler\n",
    "from sklearn.preprocessing import MaxAbsScaler\n",
    "sc=StandardScaler()\n",
    "\n",
    "y_train=x_train.iloc[:,-1]\n",
    "x_train=x_train.iloc[:,:-1]\n",
    "\n",
    "\n",
    "temp=np.zeros((x_train.shape[0],x_train.shape[1]*10))\n",
    "temp[:,:x_train.shape[1]]=x_train\n",
    "temp[:,x_train.shape[1]:x_train.shape[1]*2]=x_train**2\n",
    "temp[:,x_train.shape[1]*2:x_train.shape[1]*3]=x_train**3\n",
    "temp[:,x_train.shape[1]*3:x_train.shape[1]*4]=x_train**4\n",
    "temp[:,x_train.shape[1]*4:x_train.shape[1]*5]=x_train**5\n",
    "temp[:,x_train.shape[1]*5:x_train.shape[1]*6]=x_train**6\n",
    "temp[:,x_train.shape[1]*6:x_train.shape[1]*7]=x_train**7\n",
    "temp[:,x_train.shape[1]*7:x_train.shape[1]*8]=x_train**8\n",
    "temp[:,x_train.shape[1]*8:x_train.shape[1]*9]=x_train**9\n",
    "temp[:,x_train.shape[1]*9:x_train.shape[1]*10]=x_train**10\n",
    "x_train=temp\n",
    "\n",
    "\n",
    "temp=np.zeros((x_test.shape[0],x_test.shape[1]*10))\n",
    "temp[:,:x_test.shape[1]]=x_test\n",
    "temp[:,x_test.shape[1]:x_test.shape[1]*2]=x_test**2\n",
    "temp[:,x_test.shape[1]*2:x_test.shape[1]*3]=x_test**3\n",
    "temp[:,x_test.shape[1]*3:x_test.shape[1]*4]=x_test**4\n",
    "temp[:,x_test.shape[1]*4:x_test.shape[1]*5]=x_test**5\n",
    "temp[:,x_test.shape[1]*5:x_test.shape[1]*6]=x_test**6\n",
    "temp[:,x_test.shape[1]*6:x_test.shape[1]*7]=x_test**7\n",
    "temp[:,x_test.shape[1]*7:x_test.shape[1]*8]=x_test**8\n",
    "temp[:,x_test.shape[1]*8:x_test.shape[1]*9]=x_test**9\n",
    "temp[:,x_test.shape[1]*9:x_test.shape[1]*10]=x_test**10\n",
    "x_test=temp\n",
    "\n",
    "print(x_train.shape,x_test.shape)\n",
    "\n",
    "x_train=sc.fit_transform(x_train)\n",
    "x_test=sc.transform(x_test)\n",
    "\n",
    "print(x_train.shape,x_test.shape)\n",
    "clf=linear_model.LogisticRegression(C=10000,max_iter=10000,solver='liblinear')\n",
    "clf.fit(x_train,y_train)"
   ]
  },
  {
   "cell_type": "code",
   "execution_count": 6,
   "metadata": {},
   "outputs": [
    {
     "name": "stdout",
     "output_type": "stream",
     "text": [
      "(668, 80) (223, 80)\n"
     ]
    }
   ],
   "source": [
    "print(x_train.shape,x_test.shape)"
   ]
  },
  {
   "cell_type": "code",
   "execution_count": 7,
   "metadata": {},
   "outputs": [],
   "source": [
    "pred_test=clf.predict(x_test)\n",
    "np.savetxt('output_file.csv',pred_test,fmt='%0.2f')\n",
    "pred_train=clf.predict(x_train)"
   ]
  },
  {
   "cell_type": "code",
   "execution_count": 8,
   "metadata": {},
   "outputs": [
    {
     "ename": "NameError",
     "evalue": "name 'data' is not defined",
     "output_type": "error",
     "traceback": [
      "\u001b[0;31m---------------------------------------------------------------------------\u001b[0m",
      "\u001b[0;31mNameError\u001b[0m                                 Traceback (most recent call last)",
      "\u001b[0;32m<ipython-input-8-6a000c36cc7f>\u001b[0m in \u001b[0;36m<module>\u001b[0;34m\u001b[0m\n\u001b[1;32m      1\u001b[0m \u001b[0;31m# Checking how well it works on training data\u001b[0m\u001b[0;34m\u001b[0m\u001b[0;34m\u001b[0m\u001b[0;34m\u001b[0m\u001b[0m\n\u001b[1;32m      2\u001b[0m \u001b[0;32mfrom\u001b[0m \u001b[0msklearn\u001b[0m\u001b[0;34m.\u001b[0m\u001b[0mmetrics\u001b[0m \u001b[0;32mimport\u001b[0m \u001b[0mconfusion_matrix\u001b[0m\u001b[0;34m,\u001b[0m \u001b[0mclassification_report\u001b[0m\u001b[0;34m\u001b[0m\u001b[0;34m\u001b[0m\u001b[0m\n\u001b[0;32m----> 3\u001b[0;31m \u001b[0mprint\u001b[0m\u001b[0;34m(\u001b[0m\u001b[0mconfusion_matrix\u001b[0m\u001b[0;34m(\u001b[0m\u001b[0mdata\u001b[0m\u001b[0;34m.\u001b[0m\u001b[0miloc\u001b[0m\u001b[0;34m[\u001b[0m\u001b[0;34m:\u001b[0m\u001b[0;34m,\u001b[0m\u001b[0;34m-\u001b[0m\u001b[0;36m1\u001b[0m\u001b[0;34m]\u001b[0m\u001b[0;34m,\u001b[0m\u001b[0mpred_train\u001b[0m\u001b[0;34m)\u001b[0m\u001b[0;34m)\u001b[0m\u001b[0;34m\u001b[0m\u001b[0;34m\u001b[0m\u001b[0m\n\u001b[0m\u001b[1;32m      4\u001b[0m \u001b[0mprint\u001b[0m\u001b[0;34m(\u001b[0m\u001b[0mclassification_report\u001b[0m\u001b[0;34m(\u001b[0m\u001b[0mdata\u001b[0m\u001b[0;34m.\u001b[0m\u001b[0miloc\u001b[0m\u001b[0;34m[\u001b[0m\u001b[0;34m:\u001b[0m\u001b[0;34m,\u001b[0m\u001b[0;34m-\u001b[0m\u001b[0;36m1\u001b[0m\u001b[0;34m]\u001b[0m\u001b[0;34m,\u001b[0m\u001b[0mpred_train\u001b[0m\u001b[0;34m)\u001b[0m\u001b[0;34m)\u001b[0m\u001b[0;34m\u001b[0m\u001b[0;34m\u001b[0m\u001b[0m\n\u001b[1;32m      5\u001b[0m \u001b[0mprint\u001b[0m\u001b[0;34m(\u001b[0m\u001b[0mclf\u001b[0m\u001b[0;34m.\u001b[0m\u001b[0mscore\u001b[0m\u001b[0;34m(\u001b[0m\u001b[0mx_train\u001b[0m\u001b[0;34m,\u001b[0m\u001b[0mdata\u001b[0m\u001b[0;34m.\u001b[0m\u001b[0miloc\u001b[0m\u001b[0;34m[\u001b[0m\u001b[0;34m:\u001b[0m\u001b[0;34m,\u001b[0m\u001b[0;34m-\u001b[0m\u001b[0;36m1\u001b[0m\u001b[0;34m]\u001b[0m\u001b[0;34m)\u001b[0m\u001b[0;34m)\u001b[0m\u001b[0;34m\u001b[0m\u001b[0;34m\u001b[0m\u001b[0m\n",
      "\u001b[0;31mNameError\u001b[0m: name 'data' is not defined"
     ]
    }
   ],
   "source": [
    "# Checking how well it works on training data\n",
    "from sklearn.metrics import confusion_matrix, classification_report\n",
    "print(confusion_matrix(data.iloc[:,-1],pred_train))\n",
    "print(classification_report(data.iloc[:,-1],pred_train))\n",
    "print(clf.score(x_train,data.iloc[:,-1]))"
   ]
  },
  {
   "cell_type": "code",
   "execution_count": null,
   "metadata": {},
   "outputs": [],
   "source": []
  },
  {
   "cell_type": "code",
   "execution_count": null,
   "metadata": {},
   "outputs": [],
   "source": []
  }
 ],
 "metadata": {
  "kernelspec": {
   "display_name": "Python 3",
   "language": "python",
   "name": "python3"
  },
  "language_info": {
   "codemirror_mode": {
    "name": "ipython",
    "version": 3
   },
   "file_extension": ".py",
   "mimetype": "text/x-python",
   "name": "python",
   "nbconvert_exporter": "python",
   "pygments_lexer": "ipython3",
   "version": "3.8.5"
  }
 },
 "nbformat": 4,
 "nbformat_minor": 2
}
