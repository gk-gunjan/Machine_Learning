{
 "cells": [
  {
   "cell_type": "code",
   "execution_count": 1,
   "metadata": {},
   "outputs": [],
   "source": [
    "def fun(m,points,i):\n",
    "    M=len(points)\n",
    "    features=points.shape[1]\n",
    "    ans=0\n",
    "    for j in range(features):\n",
    "        ans+=m[j]*points[i][j]\n",
    "    return ans"
   ]
  },
  {
   "cell_type": "code",
   "execution_count": 2,
   "metadata": {},
   "outputs": [],
   "source": [
    "def slope(m,points,y):\n",
    "    \n",
    "    # no of rows\n",
    "    M=points.shape[0]\n",
    "    \n",
    "    # index of output column \n",
    "    features=points.shape[1]\n",
    "    c=np.zeros(features)\n",
    "    for d in range(features):\n",
    "        \n",
    "        slope_m=0\n",
    "        \n",
    "        for i in range(M):\n",
    "            ans=fun(m,points,i)\n",
    "            slope_m+=(y[i]-ans)*points[i][d]\n",
    "            \n",
    "        c[d]=(-2/M)*(slope_m)\n",
    "        \n",
    "    return c"
   ]
  },
  {
   "cell_type": "code",
   "execution_count": 3,
   "metadata": {},
   "outputs": [],
   "source": [
    "def cost(points,m,y):\n",
    "    M=len(points)\n",
    "    cost=0\n",
    "    ans=0\n",
    "    features=points.shape[1]\n",
    "    for i in range(M):\n",
    "        ans=fun(m,points,i)\n",
    "        cost+=(y[i]-ans)**2\n",
    "    return (1/M)*cost"
   ]
  },
  {
   "cell_type": "code",
   "execution_count": 4,
   "metadata": {},
   "outputs": [],
   "source": [
    "# m_new=m-lr(slope_m)\n",
    "# c_new=c-lr(slope_c)\n",
    "\n",
    "def gd(iterations,m,lr,points,y):\n",
    "    for i in range(iterations):\n",
    "        slope_m=slope(m,points,y)\n",
    "        m_new=m-(lr*(slope_m))\n",
    "        print('Iteration No.',i, '  m :',m, 'Cost :',cost(points,m_new,y))\n",
    "        print()\n",
    "        m=m_new\n",
    "    \n",
    "    return m"
   ]
  },
  {
   "cell_type": "code",
   "execution_count": null,
   "metadata": {},
   "outputs": [],
   "source": [
    "# m_new=m-lr(slope_m)\n",
    "# c_new=c-lr(slope_c)\n",
    "\n",
    "def gd(iterations,m,lr,points,y):\n",
    "    for i in range(iterations):\n",
    "        slope_m=slope(m,points,y)\n",
    "        m_new=m-(lr*(slope_m))\n",
    "        print('Iteration No.',i, '  m :',m, 'Cost :',cost(points,m_new,y))\n",
    "        print()\n",
    "        m=m_new\n",
    "    \n",
    "    return m"
   ]
  }
 ],
 "metadata": {
  "kernelspec": {
   "display_name": "Python 3",
   "language": "python",
   "name": "python3"
  },
  "language_info": {
   "codemirror_mode": {
    "name": "ipython",
    "version": 3
   },
   "file_extension": ".py",
   "mimetype": "text/x-python",
   "name": "python",
   "nbconvert_exporter": "python",
   "pygments_lexer": "ipython3",
   "version": "3.8.5"
  }
 },
 "nbformat": 4,
 "nbformat_minor": 4
}
