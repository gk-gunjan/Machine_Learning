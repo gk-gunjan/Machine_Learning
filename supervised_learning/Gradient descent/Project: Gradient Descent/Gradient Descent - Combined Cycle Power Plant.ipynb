{
 "cells": [
  {
   "cell_type": "code",
   "execution_count": 18,
   "metadata": {},
   "outputs": [],
   "source": [
    "import numpy as np\n",
    "import pandas as pd"
   ]
  },
  {
   "cell_type": "code",
   "execution_count": 180,
   "metadata": {},
   "outputs": [],
   "source": [
    "train_data=np.genfromtxt('training_ccpp_x_y_train.csv',delimiter=',')\n",
    "test_data=np.genfromtxt('test_ccpp_x_test.csv',delimiter=',')"
   ]
  },
  {
   "cell_type": "code",
   "execution_count": 68,
   "metadata": {},
   "outputs": [
    {
     "data": {
      "text/html": [
       "<div>\n",
       "<style scoped>\n",
       "    .dataframe tbody tr th:only-of-type {\n",
       "        vertical-align: middle;\n",
       "    }\n",
       "\n",
       "    .dataframe tbody tr th {\n",
       "        vertical-align: top;\n",
       "    }\n",
       "\n",
       "    .dataframe thead th {\n",
       "        text-align: right;\n",
       "    }\n",
       "</style>\n",
       "<table border=\"1\" class=\"dataframe\">\n",
       "  <thead>\n",
       "    <tr style=\"text-align: right;\">\n",
       "      <th></th>\n",
       "      <th># T</th>\n",
       "      <th>V</th>\n",
       "      <th>AP</th>\n",
       "      <th>RH</th>\n",
       "      <th>EP</th>\n",
       "    </tr>\n",
       "  </thead>\n",
       "  <tbody>\n",
       "    <tr>\n",
       "      <th>0</th>\n",
       "      <td>8.58</td>\n",
       "      <td>38.38</td>\n",
       "      <td>1021.03</td>\n",
       "      <td>84.37</td>\n",
       "      <td>482.26</td>\n",
       "    </tr>\n",
       "    <tr>\n",
       "      <th>1</th>\n",
       "      <td>21.79</td>\n",
       "      <td>58.20</td>\n",
       "      <td>1017.21</td>\n",
       "      <td>66.74</td>\n",
       "      <td>446.94</td>\n",
       "    </tr>\n",
       "    <tr>\n",
       "      <th>2</th>\n",
       "      <td>16.64</td>\n",
       "      <td>48.92</td>\n",
       "      <td>1011.55</td>\n",
       "      <td>78.76</td>\n",
       "      <td>452.56</td>\n",
       "    </tr>\n",
       "    <tr>\n",
       "      <th>3</th>\n",
       "      <td>31.38</td>\n",
       "      <td>71.32</td>\n",
       "      <td>1009.17</td>\n",
       "      <td>60.42</td>\n",
       "      <td>433.44</td>\n",
       "    </tr>\n",
       "    <tr>\n",
       "      <th>4</th>\n",
       "      <td>9.20</td>\n",
       "      <td>40.03</td>\n",
       "      <td>1017.05</td>\n",
       "      <td>92.46</td>\n",
       "      <td>480.38</td>\n",
       "    </tr>\n",
       "  </tbody>\n",
       "</table>\n",
       "</div>"
      ],
      "text/plain": [
       "     # T      V       AP     RH      EP\n",
       "0   8.58  38.38  1021.03  84.37  482.26\n",
       "1  21.79  58.20  1017.21  66.74  446.94\n",
       "2  16.64  48.92  1011.55  78.76  452.56\n",
       "3  31.38  71.32  1009.17  60.42  433.44\n",
       "4   9.20  40.03  1017.05  92.46  480.38"
      ]
     },
     "execution_count": 68,
     "metadata": {},
     "output_type": "execute_result"
    }
   ],
   "source": [
    "train_df=pd.read_csv('training_ccpp_x_y_train.csv',delimiter=',')\n",
    "train_df.head()"
   ]
  },
  {
   "cell_type": "code",
   "execution_count": 70,
   "metadata": {},
   "outputs": [
    {
     "data": {
      "text/plain": [
       "array([482.26, 446.94, 452.56, ..., 437.65, 459.97, 444.42])"
      ]
     },
     "execution_count": 70,
     "metadata": {},
     "output_type": "execute_result"
    }
   ],
   "source": [
    "tr_y=train_df.values[:,4]\n",
    "tr_y"
   ]
  },
  {
   "cell_type": "code",
   "execution_count": 79,
   "metadata": {},
   "outputs": [],
   "source": [
    "del train_df[' EP']"
   ]
  },
  {
   "cell_type": "code",
   "execution_count": 80,
   "metadata": {},
   "outputs": [
    {
     "data": {
      "text/plain": [
       "(7176, 5)"
      ]
     },
     "execution_count": 80,
     "metadata": {},
     "output_type": "execute_result"
    }
   ],
   "source": [
    "train_data.shape"
   ]
  },
  {
   "cell_type": "code",
   "execution_count": 81,
   "metadata": {},
   "outputs": [],
   "source": [
    "from sklearn import preprocessing"
   ]
  },
  {
   "cell_type": "code",
   "execution_count": 82,
   "metadata": {},
   "outputs": [],
   "source": [
    "scaler=preprocessing.StandardScaler()"
   ]
  },
  {
   "cell_type": "code",
   "execution_count": 83,
   "metadata": {},
   "outputs": [
    {
     "data": {
      "text/plain": [
       "StandardScaler()"
      ]
     },
     "execution_count": 83,
     "metadata": {},
     "output_type": "execute_result"
    }
   ],
   "source": [
    "scaler.fit(train_df)"
   ]
  },
  {
   "cell_type": "code",
   "execution_count": 84,
   "metadata": {},
   "outputs": [],
   "source": [
    "train_scale=scaler.transform(train_df)"
   ]
  },
  {
   "cell_type": "code",
   "execution_count": 85,
   "metadata": {},
   "outputs": [],
   "source": [
    "test_scale=scaler.transform(test_data)"
   ]
  },
  {
   "cell_type": "code",
   "execution_count": 86,
   "metadata": {},
   "outputs": [],
   "source": [
    "name=train_df.columns"
   ]
  },
  {
   "cell_type": "code",
   "execution_count": 87,
   "metadata": {},
   "outputs": [],
   "source": [
    "index=name\n",
    "train_df=pd.DataFrame(train_scale,columns=index)"
   ]
  },
  {
   "cell_type": "code",
   "execution_count": 88,
   "metadata": {},
   "outputs": [],
   "source": [
    "index=[' EP']\n",
    "df_y=pd.DataFrame(tr_y,columns=index)"
   ]
  },
  {
   "cell_type": "code",
   "execution_count": 90,
   "metadata": {},
   "outputs": [],
   "source": [
    "df=train_df.join(df_y)"
   ]
  },
  {
   "cell_type": "code",
   "execution_count": 94,
   "metadata": {},
   "outputs": [],
   "source": [
    "train_data=df.values"
   ]
  },
  {
   "cell_type": "code",
   "execution_count": 95,
   "metadata": {},
   "outputs": [
    {
     "data": {
      "text/plain": [
       "array([[-1.47827466e+00, -1.24764165e+00,  1.30221067e+00,\n",
       "         7.58624590e-01,  4.82260000e+02],\n",
       "       [ 2.89012041e-01,  3.06797549e-01,  6.61749044e-01,\n",
       "        -4.46921842e-01,  4.46940000e+02],\n",
       "       [-3.99975582e-01, -4.21012529e-01, -2.87207194e-01,\n",
       "         3.75010552e-01,  4.52560000e+02],\n",
       "       ...,\n",
       "       [ 1.36062192e+00,  1.18048335e+00, -6.54382840e-01,\n",
       "        -5.83682640e-01,  4.37650000e+02],\n",
       "       [-4.36097263e-01,  9.29089763e-04,  7.84140927e-01,\n",
       "        -6.59584883e-01,  4.59970000e+02],\n",
       "       [ 1.40209496e+00,  6.07960340e-01, -4.31394890e-01,\n",
       "        -1.73110573e+00,  4.44420000e+02]])"
      ]
     },
     "execution_count": 95,
     "metadata": {},
     "output_type": "execute_result"
    }
   ],
   "source": [
    "train_data"
   ]
  },
  {
   "cell_type": "code",
   "execution_count": 126,
   "metadata": {},
   "outputs": [],
   "source": [
    "def cost(points,m):\n",
    "    total_cost=0\n",
    "    N=points.shape[0]\n",
    "    c=points.shape[1]\n",
    "    for i in range(N):\n",
    "        x=points[i,0:c-1]\n",
    "        x=np.append(x,1)\n",
    "        y=points[i,c-1]\n",
    "        total_cost+=(y-(m*x).sum())**2\n",
    "    total_cost=(1/N)*total_cost\n",
    "    return total_cost"
   ]
  },
  {
   "cell_type": "code",
   "execution_count": null,
   "metadata": {},
   "outputs": [],
   "source": [
    "def step_gradient(points,learn_rate,m):\n",
    "    c=points.shape[1]\n",
    "    m_slope=np.zeros(c)\n",
    "    M=points.shape[0]\n",
    "    new_m=0\n",
    "    for i in range(M):\n",
    "        x=points[i,0:c-1]\n",
    "        x=np.append(x,1)\n",
    "        y=points[i,c-1]\n",
    "        for j in range(c):\n",
    "            m_slope[j]+=(-2/M)*(y-(m*x).sum())*x[j]\n",
    "        new_m=m-(learn_rate*m_slope)\n",
    "    return new_m       "
   ]
  },
  {
   "cell_type": "code",
   "execution_count": 134,
   "metadata": {},
   "outputs": [],
   "source": [
    "def gd(points,num_iter,learn_rate):\n",
    "    c=points.shape[1]\n",
    "    m=np.zeros(c)\n",
    "    for i in range(num_iter):\n",
    "        m=step_gradient(points,learn_rate,m)\n",
    "        print(i,' ',\"Cost:\" ,cost(points,m))\n",
    "    return m"
   ]
  },
  {
   "cell_type": "code",
   "execution_count": 162,
   "metadata": {},
   "outputs": [],
   "source": [
    "def run():\n",
    "    num_iter=100\n",
    "    learn_rate=0.0001\n",
    "    m=gd(train_data,num_iter,learn_rate)\n",
    "    return m[0:train_data.shape[1]-1], m[train_data.shape[1]-1] #no of rows in traing data"
   ]
  },
  {
   "cell_type": "code",
   "execution_count": 163,
   "metadata": {},
   "outputs": [
    {
     "name": "stdout",
     "output_type": "stream",
     "text": [
      "0   Cost: 27422.391537749892\n",
      "1   Cost: 3661.741184229716\n",
      "2   Cost: 509.4162439398636\n",
      "3   Cost: 90.679865576776\n",
      "4   Cost: 34.36609667266653\n",
      "5   Cost: 26.298115850695876\n",
      "6   Cost: 24.711342779573602\n",
      "7   Cost: 24.063822257310964\n",
      "8   Cost: 23.60319883249452\n",
      "9   Cost: 23.22127102304074\n",
      "10   Cost: 22.89527361542579\n",
      "11   Cost: 22.615669698410695\n",
      "12   Cost: 22.375561062899454\n",
      "13   Cost: 22.169300129563187\n",
      "14   Cost: 21.99208784322746\n",
      "15   Cost: 21.83982674403131\n",
      "16   Cost: 21.709004737632025\n",
      "17   Cost: 21.59660814698133\n",
      "18   Cost: 21.500048515549384\n",
      "19   Cost: 21.4171016519018\n",
      "20   Cost: 21.34585580381125\n",
      "21   Cost: 21.284667512958013\n",
      "22   Cost: 21.232123831265003\n",
      "23   Cost: 21.187009933797146\n",
      "24   Cost: 21.148281318950268\n",
      "25   Cost: 21.115039930080368\n",
      "26   Cost: 21.086513635387\n",
      "27   Cost: 21.062038588616364\n",
      "28   Cost: 21.04104406313109\n",
      "29   Cost: 21.023039410871657\n",
      "30   Cost: 21.007602847529906\n",
      "31   Cost: 20.994371807677126\n",
      "32   Cost: 20.983034649788788\n",
      "33   Cost: 20.973323522101623\n",
      "34   Cost: 20.965008226805004\n",
      "35   Cost: 20.95789094286603\n",
      "36   Cost: 20.951801687365784\n",
      "37   Cost: 20.946594412043755\n",
      "38   Cost: 20.942143646206222\n",
      "39   Cost: 20.93834160958533\n",
      "40   Cost: 20.935095729416716\n",
      "41   Cost: 20.932326505203083\n",
      "42   Cost: 20.929965672531676\n",
      "43   Cost: 20.92795462411075\n",
      "44   Cost: 20.926243052047152\n",
      "45   Cost: 20.92478778040401\n",
      "46   Cost: 20.923551761421006\n",
      "47   Cost: 20.922503212489175\n",
      "48   Cost: 20.921614874182584\n",
      "49   Cost: 20.92086337239862\n",
      "50   Cost: 20.920228670034515\n",
      "51   Cost: 20.919693595657307\n",
      "52   Cost: 20.919243438388236\n",
      "53   Cost: 20.91886559972177\n",
      "54   Cost: 20.91854929430457\n",
      "55   Cost: 20.918285292809372\n",
      "56   Cost: 20.918065701004537\n",
      "57   Cost: 20.917883769942748\n",
      "58   Cost: 20.91773373290112\n",
      "59   Cost: 20.917610665322986\n",
      "60   Cost: 20.917510364528955\n",
      "61   Cost: 20.91742924642206\n",
      "62   Cost: 20.917364256799363\n",
      "63   Cost: 20.917312795216795\n",
      "64   Cost: 20.917272649642392\n",
      "65   Cost: 20.91724194037932\n",
      "66   Cost: 20.91721907195301\n",
      "67   Cost: 20.91720269184202\n",
      "68   Cost: 20.917191655086757\n",
      "69   Cost: 20.91718499394717\n",
      "70   Cost: 20.91718189189579\n",
      "71   Cost: 20.917181661334862\n",
      "72   Cost: 20.91718372450936\n",
      "73   Cost: 20.917187597165128\n",
      "74   Cost: 20.917192874561216\n",
      "75   Cost: 20.917199219503225\n",
      "76   Cost: 20.91720635211015\n",
      "77   Cost: 20.91721404107057\n",
      "78   Cost: 20.917222096169755\n",
      "79   Cost: 20.917230361914232\n",
      "80   Cost: 20.91723871209008\n",
      "81   Cost: 20.917247045127127\n",
      "82   Cost: 20.917255280147188\n",
      "83   Cost: 20.917263353602145\n",
      "84   Cost: 20.917271216418094\n",
      "85   Cost: 20.917278831565525\n",
      "86   Cost: 20.91728617200332\n",
      "87   Cost: 20.91729321893281\n",
      "88   Cost: 20.91729996032377\n",
      "89   Cost: 20.917306389669033\n",
      "90   Cost: 20.917312504933935\n",
      "91   Cost: 20.91731830767364\n",
      "92   Cost: 20.9173238022926\n",
      "93   Cost: 20.91732899542396\n",
      "94   Cost: 20.917333895412213\n",
      "95   Cost: 20.917338511883187\n",
      "96   Cost: 20.917342855387624\n",
      "97   Cost: 20.917346937107588\n",
      "98   Cost: 20.917350768615876\n",
      "99   Cost: 20.9173543616795\n"
     ]
    }
   ],
   "source": [
    "m,c=run()"
   ]
  },
  {
   "cell_type": "code",
   "execution_count": 165,
   "metadata": {},
   "outputs": [
    {
     "name": "stdout",
     "output_type": "stream",
     "text": [
      "M : [-14.90685845  -2.84188676   0.36061708  -2.38395224]\n",
      "C : 454.4575257440056\n"
     ]
    }
   ],
   "source": [
    "print(\"M :\",m)\n",
    "print(\"C :\",c)"
   ]
  },
  {
   "cell_type": "code",
   "execution_count": 176,
   "metadata": {},
   "outputs": [],
   "source": [
    "def prediction(points,m,c):\n",
    "    r=points.shape[0]\n",
    "    pred=np.zeros(r)\n",
    "    for i in range(r):\n",
    "        x=points[i,:]\n",
    "        pred[i]=(m*x).sum() +c\n",
    "    return pred\n",
    "    "
   ]
  },
  {
   "cell_type": "code",
   "execution_count": 177,
   "metadata": {},
   "outputs": [],
   "source": [
    "predict=prediction(test_data,m,c)"
   ]
  },
  {
   "cell_type": "code",
   "execution_count": 178,
   "metadata": {},
   "outputs": [
    {
     "data": {
      "text/plain": [
       "array([307.15537856, 336.34213685,  14.5672917 , ...,  48.48145086,\n",
       "       192.61804385, 123.47917577])"
      ]
     },
     "execution_count": 178,
     "metadata": {},
     "output_type": "execute_result"
    }
   ],
   "source": [
    "predict"
   ]
  },
  {
   "cell_type": "code",
   "execution_count": 179,
   "metadata": {},
   "outputs": [],
   "source": [
    "np.savetxt('predction_cycle.csv',predict,delimiter=',',fmt=\"%1.5f\")"
   ]
  },
  {
   "cell_type": "code",
   "execution_count": 181,
   "metadata": {},
   "outputs": [
    {
     "data": {
      "text/plain": [
       "array([[   8.58,   38.38, 1021.03,   84.37,  482.26],\n",
       "       [  21.79,   58.2 , 1017.21,   66.74,  446.94],\n",
       "       [  16.64,   48.92, 1011.55,   78.76,  452.56],\n",
       "       ...,\n",
       "       [  29.8 ,   69.34, 1009.36,   64.74,  437.65],\n",
       "       [  16.37,   54.3 , 1017.94,   63.63,  459.97],\n",
       "       [  30.11,   62.04, 1010.69,   47.96,  444.42]])"
      ]
     },
     "execution_count": 181,
     "metadata": {},
     "output_type": "execute_result"
    }
   ],
   "source": [
    "train_data"
   ]
  },
  {
   "cell_type": "code",
   "execution_count": 182,
   "metadata": {},
   "outputs": [
    {
     "data": {
      "text/plain": [
       "array([[  11.95,   42.03, 1017.58,   90.89],\n",
       "       [  12.07,   38.25, 1012.67,   81.66],\n",
       "       [  26.91,   74.99, 1005.64,   78.98],\n",
       "       ...,\n",
       "       [  24.32,   66.25, 1009.09,   91.89],\n",
       "       [  23.49,   42.8 , 1013.96,   65.31],\n",
       "       [  21.76,   60.27, 1018.96,   85.06]])"
      ]
     },
     "execution_count": 182,
     "metadata": {},
     "output_type": "execute_result"
    }
   ],
   "source": [
    "test_data"
   ]
  },
  {
   "cell_type": "code",
   "execution_count": 194,
   "metadata": {},
   "outputs": [],
   "source": [
    "from sklearn.ensemble import GradientBoostingRegressor"
   ]
  },
  {
   "cell_type": "code",
   "execution_count": 184,
   "metadata": {},
   "outputs": [],
   "source": [
    "x=train_data[:,:-1]\n",
    "y=train_data[:,-1]"
   ]
  },
  {
   "cell_type": "code",
   "execution_count": 185,
   "metadata": {},
   "outputs": [
    {
     "data": {
      "text/plain": [
       "(7176, 4)"
      ]
     },
     "execution_count": 185,
     "metadata": {},
     "output_type": "execute_result"
    }
   ],
   "source": [
    "x.shape"
   ]
  },
  {
   "cell_type": "code",
   "execution_count": 186,
   "metadata": {},
   "outputs": [
    {
     "data": {
      "text/plain": [
       "(7176,)"
      ]
     },
     "execution_count": 186,
     "metadata": {},
     "output_type": "execute_result"
    }
   ],
   "source": [
    "y.shape"
   ]
  },
  {
   "cell_type": "code",
   "execution_count": 187,
   "metadata": {},
   "outputs": [
    {
     "data": {
      "text/plain": [
       "(7176, 5)"
      ]
     },
     "execution_count": 187,
     "metadata": {},
     "output_type": "execute_result"
    }
   ],
   "source": [
    "train_data.shape"
   ]
  },
  {
   "cell_type": "code",
   "execution_count": 188,
   "metadata": {},
   "outputs": [],
   "source": [
    "reg=GradientBoostingRegressor()"
   ]
  },
  {
   "cell_type": "code",
   "execution_count": 189,
   "metadata": {},
   "outputs": [
    {
     "data": {
      "text/plain": [
       "GradientBoostingRegressor()"
      ]
     },
     "execution_count": 189,
     "metadata": {},
     "output_type": "execute_result"
    }
   ],
   "source": [
    "reg.fit(x,y)"
   ]
  },
  {
   "cell_type": "code",
   "execution_count": 195,
   "metadata": {},
   "outputs": [],
   "source": [
    "y_predict=reg.predict(x)"
   ]
  },
  {
   "cell_type": "code",
   "execution_count": 196,
   "metadata": {},
   "outputs": [],
   "source": [
    "np.savetxt('prediction_final_cycle.csv',y_predict,delimiter=',',fmt=\"%1.5f\")"
   ]
  },
  {
   "cell_type": "code",
   "execution_count": 197,
   "metadata": {},
   "outputs": [
    {
     "data": {
      "text/plain": [
       "array([480.91549752, 449.27889301, 457.49658362, ..., 433.68679481,\n",
       "       460.0522543 , 439.74172019])"
      ]
     },
     "execution_count": 197,
     "metadata": {},
     "output_type": "execute_result"
    }
   ],
   "source": [
    "y_predict"
   ]
  },
  {
   "cell_type": "code",
   "execution_count": null,
   "metadata": {},
   "outputs": [],
   "source": []
  }
 ],
 "metadata": {
  "kernelspec": {
   "display_name": "Python 3",
   "language": "python",
   "name": "python3"
  },
  "language_info": {
   "codemirror_mode": {
    "name": "ipython",
    "version": 3
   },
   "file_extension": ".py",
   "mimetype": "text/x-python",
   "name": "python",
   "nbconvert_exporter": "python",
   "pygments_lexer": "ipython3",
   "version": "3.8.5"
  }
 },
 "nbformat": 4,
 "nbformat_minor": 4
}
