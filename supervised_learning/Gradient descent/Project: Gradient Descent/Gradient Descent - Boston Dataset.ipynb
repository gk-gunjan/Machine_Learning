{
 "cells": [
  {
   "cell_type": "markdown",
   "metadata": {},
   "source": [
    "# Gradient Descent - Boston Dataset\n"
   ]
  },
  {
   "cell_type": "code",
   "execution_count": 1,
   "metadata": {},
   "outputs": [],
   "source": [
    "import numpy as np"
   ]
  },
  {
   "cell_type": "code",
   "execution_count": 2,
   "metadata": {},
   "outputs": [],
   "source": [
    "test_data=np.genfromtxt('0000000000002417_test_boston_x_test.csv',delimiter=',')\n",
    "train_data=np.genfromtxt('0000000000002417_training_boston_x_y_train.csv',delimiter=',')"
   ]
  },
  {
   "cell_type": "code",
   "execution_count": 43,
   "metadata": {},
   "outputs": [
    {
     "data": {
      "text/plain": [
       "(127, 13)"
      ]
     },
     "execution_count": 43,
     "metadata": {},
     "output_type": "execute_result"
    }
   ],
   "source": [
    "test_data.shape"
   ]
  },
  {
   "cell_type": "code",
   "execution_count": 44,
   "metadata": {},
   "outputs": [
    {
     "data": {
      "text/plain": [
       "(379, 14)"
      ]
     },
     "execution_count": 44,
     "metadata": {},
     "output_type": "execute_result"
    }
   ],
   "source": [
    "train_data.shape"
   ]
  },
  {
   "cell_type": "code",
   "execution_count": 99,
   "metadata": {},
   "outputs": [],
   "source": [
    "def cost(X,Y,m):\n",
    "    c=train_data.shape[1]\n",
    "    M=train_data.shape[0]\n",
    "    total_cost=0\n",
    "    for i in range(M):\n",
    "        total_cost+=(1/M)*(y-(m*x).sum())**2\n",
    "    return total_cost\n",
    "        "
   ]
  },
  {
   "cell_type": "code",
   "execution_count": 110,
   "metadata": {},
   "outputs": [],
   "source": [
    "def step_gradient(X,Y,learning_rate,m):\n",
    "    c=train_data.shape[1]\n",
    "    m_slope=np.zeros(c)\n",
    "    M=train_data.shape[0]\n",
    "    for i in range(M):\n",
    "        x=X[i-1]\n",
    "        y=Y[i]\n",
    "        for j in range(c):\n",
    "            m_slope[j]+=(-2/M)*(y-(m*x).sum())*x[j]\n",
    "    new_m=m-learning_rate*m_slope\n",
    "    return new_m\n",
    "    "
   ]
  },
  {
   "cell_type": "code",
   "execution_count": 93,
   "metadata": {},
   "outputs": [],
   "source": [
    "def gd(X,Y,num_iteration,learning_rate):\n",
    "    c=train_data.shape[1]\n",
    "    m=np.zeros(c)\n",
    "    for i in range(num_iteration):\n",
    "        m=step_gradient(X,Y,learning_rate,m)\n",
    "        print(i,\" \",'Cost:',cost(X,Y,m))\n",
    "    return m"
   ]
  },
  {
   "cell_type": "code",
   "execution_count": 94,
   "metadata": {},
   "outputs": [],
   "source": [
    "def run():\n",
    "    X=train_data[:,:-1]\n",
    "    Y=train_data[:,-1]\n",
    "    num_iteration=500\n",
    "    learning_rate=0.0001\n",
    "    m=gd(X,Y,num_iteration,learning_rate)\n",
    "    #m=gd(train_data,num_iteration,learning_rate)\n",
    "    return m[:13],m[13] #c value is in last index of mth list"
   ]
  },
  {
   "cell_type": "code",
   "execution_count": 111,
   "metadata": {},
   "outputs": [
    {
     "ename": "ValueError",
     "evalue": "operands could not be broadcast together with shapes (14,) (13,) ",
     "output_type": "error",
     "traceback": [
      "\u001b[0;31m---------------------------------------------------------------------------\u001b[0m",
      "\u001b[0;31mValueError\u001b[0m                                Traceback (most recent call last)",
      "\u001b[0;32m<ipython-input-111-eef57ab0d95b>\u001b[0m in \u001b[0;36m<module>\u001b[0;34m\u001b[0m\n\u001b[0;32m----> 1\u001b[0;31m \u001b[0mm\u001b[0m\u001b[0;34m,\u001b[0m\u001b[0mc\u001b[0m\u001b[0;34m=\u001b[0m\u001b[0mrun\u001b[0m\u001b[0;34m(\u001b[0m\u001b[0;34m)\u001b[0m\u001b[0;34m\u001b[0m\u001b[0;34m\u001b[0m\u001b[0m\n\u001b[0m",
      "\u001b[0;32m<ipython-input-94-fb41a7ff1252>\u001b[0m in \u001b[0;36mrun\u001b[0;34m()\u001b[0m\n\u001b[1;32m      4\u001b[0m     \u001b[0mnum_iteration\u001b[0m\u001b[0;34m=\u001b[0m\u001b[0;36m500\u001b[0m\u001b[0;34m\u001b[0m\u001b[0;34m\u001b[0m\u001b[0m\n\u001b[1;32m      5\u001b[0m     \u001b[0mlearning_rate\u001b[0m\u001b[0;34m=\u001b[0m\u001b[0;36m0.0001\u001b[0m\u001b[0;34m\u001b[0m\u001b[0;34m\u001b[0m\u001b[0m\n\u001b[0;32m----> 6\u001b[0;31m     \u001b[0mm\u001b[0m\u001b[0;34m=\u001b[0m\u001b[0mgd\u001b[0m\u001b[0;34m(\u001b[0m\u001b[0mX\u001b[0m\u001b[0;34m,\u001b[0m\u001b[0mY\u001b[0m\u001b[0;34m,\u001b[0m\u001b[0mnum_iteration\u001b[0m\u001b[0;34m,\u001b[0m\u001b[0mlearning_rate\u001b[0m\u001b[0;34m)\u001b[0m\u001b[0;34m\u001b[0m\u001b[0;34m\u001b[0m\u001b[0m\n\u001b[0m\u001b[1;32m      7\u001b[0m     \u001b[0;31m#m=gd(train_data,num_iteration,learning_rate)\u001b[0m\u001b[0;34m\u001b[0m\u001b[0;34m\u001b[0m\u001b[0;34m\u001b[0m\u001b[0m\n\u001b[1;32m      8\u001b[0m     \u001b[0;32mreturn\u001b[0m \u001b[0mm\u001b[0m\u001b[0;34m[\u001b[0m\u001b[0;34m:\u001b[0m\u001b[0;36m13\u001b[0m\u001b[0;34m]\u001b[0m\u001b[0;34m,\u001b[0m\u001b[0mm\u001b[0m\u001b[0;34m[\u001b[0m\u001b[0;36m13\u001b[0m\u001b[0;34m]\u001b[0m \u001b[0;31m#c value is in last index of mth list\u001b[0m\u001b[0;34m\u001b[0m\u001b[0;34m\u001b[0m\u001b[0m\n",
      "\u001b[0;32m<ipython-input-93-fa227350a4e6>\u001b[0m in \u001b[0;36mgd\u001b[0;34m(X, Y, num_iteration, learning_rate)\u001b[0m\n\u001b[1;32m      3\u001b[0m     \u001b[0mm\u001b[0m\u001b[0;34m=\u001b[0m\u001b[0mnp\u001b[0m\u001b[0;34m.\u001b[0m\u001b[0mzeros\u001b[0m\u001b[0;34m(\u001b[0m\u001b[0mc\u001b[0m\u001b[0;34m)\u001b[0m\u001b[0;34m\u001b[0m\u001b[0;34m\u001b[0m\u001b[0m\n\u001b[1;32m      4\u001b[0m     \u001b[0;32mfor\u001b[0m \u001b[0mi\u001b[0m \u001b[0;32min\u001b[0m \u001b[0mrange\u001b[0m\u001b[0;34m(\u001b[0m\u001b[0mnum_iteration\u001b[0m\u001b[0;34m)\u001b[0m\u001b[0;34m:\u001b[0m\u001b[0;34m\u001b[0m\u001b[0;34m\u001b[0m\u001b[0m\n\u001b[0;32m----> 5\u001b[0;31m         \u001b[0mm\u001b[0m\u001b[0;34m=\u001b[0m\u001b[0mstep_gradient\u001b[0m\u001b[0;34m(\u001b[0m\u001b[0mX\u001b[0m\u001b[0;34m,\u001b[0m\u001b[0mY\u001b[0m\u001b[0;34m,\u001b[0m\u001b[0mlearning_rate\u001b[0m\u001b[0;34m,\u001b[0m\u001b[0mm\u001b[0m\u001b[0;34m)\u001b[0m\u001b[0;34m\u001b[0m\u001b[0;34m\u001b[0m\u001b[0m\n\u001b[0m\u001b[1;32m      6\u001b[0m         \u001b[0mprint\u001b[0m\u001b[0;34m(\u001b[0m\u001b[0mi\u001b[0m\u001b[0;34m,\u001b[0m\u001b[0;34m\" \"\u001b[0m\u001b[0;34m,\u001b[0m\u001b[0;34m'Cost:'\u001b[0m\u001b[0;34m,\u001b[0m\u001b[0mcost\u001b[0m\u001b[0;34m(\u001b[0m\u001b[0mX\u001b[0m\u001b[0;34m,\u001b[0m\u001b[0mY\u001b[0m\u001b[0;34m,\u001b[0m\u001b[0mm\u001b[0m\u001b[0;34m)\u001b[0m\u001b[0;34m)\u001b[0m\u001b[0;34m\u001b[0m\u001b[0;34m\u001b[0m\u001b[0m\n\u001b[1;32m      7\u001b[0m     \u001b[0;32mreturn\u001b[0m \u001b[0mm\u001b[0m\u001b[0;34m\u001b[0m\u001b[0;34m\u001b[0m\u001b[0m\n",
      "\u001b[0;32m<ipython-input-110-603e45b71338>\u001b[0m in \u001b[0;36mstep_gradient\u001b[0;34m(X, Y, learning_rate, m)\u001b[0m\n\u001b[1;32m      7\u001b[0m         \u001b[0my\u001b[0m\u001b[0;34m=\u001b[0m\u001b[0mY\u001b[0m\u001b[0;34m[\u001b[0m\u001b[0mi\u001b[0m\u001b[0;34m]\u001b[0m\u001b[0;34m\u001b[0m\u001b[0;34m\u001b[0m\u001b[0m\n\u001b[1;32m      8\u001b[0m         \u001b[0;32mfor\u001b[0m \u001b[0mj\u001b[0m \u001b[0;32min\u001b[0m \u001b[0mrange\u001b[0m\u001b[0;34m(\u001b[0m\u001b[0mc\u001b[0m\u001b[0;34m)\u001b[0m\u001b[0;34m:\u001b[0m\u001b[0;34m\u001b[0m\u001b[0;34m\u001b[0m\u001b[0m\n\u001b[0;32m----> 9\u001b[0;31m             \u001b[0mm_slope\u001b[0m\u001b[0;34m[\u001b[0m\u001b[0mj\u001b[0m\u001b[0;34m]\u001b[0m\u001b[0;34m+=\u001b[0m\u001b[0;34m(\u001b[0m\u001b[0;34m-\u001b[0m\u001b[0;36m2\u001b[0m\u001b[0;34m/\u001b[0m\u001b[0mM\u001b[0m\u001b[0;34m)\u001b[0m\u001b[0;34m*\u001b[0m\u001b[0;34m(\u001b[0m\u001b[0my\u001b[0m\u001b[0;34m-\u001b[0m\u001b[0;34m(\u001b[0m\u001b[0mm\u001b[0m\u001b[0;34m*\u001b[0m\u001b[0mx\u001b[0m\u001b[0;34m)\u001b[0m\u001b[0;34m.\u001b[0m\u001b[0msum\u001b[0m\u001b[0;34m(\u001b[0m\u001b[0;34m)\u001b[0m\u001b[0;34m)\u001b[0m\u001b[0;34m*\u001b[0m\u001b[0mx\u001b[0m\u001b[0;34m[\u001b[0m\u001b[0mj\u001b[0m\u001b[0;34m]\u001b[0m\u001b[0;34m\u001b[0m\u001b[0;34m\u001b[0m\u001b[0m\n\u001b[0m\u001b[1;32m     10\u001b[0m     \u001b[0mnew_m\u001b[0m\u001b[0;34m=\u001b[0m\u001b[0mm\u001b[0m\u001b[0;34m-\u001b[0m\u001b[0mlearning_rate\u001b[0m\u001b[0;34m*\u001b[0m\u001b[0mm_slope\u001b[0m\u001b[0;34m\u001b[0m\u001b[0;34m\u001b[0m\u001b[0m\n\u001b[1;32m     11\u001b[0m     \u001b[0;32mreturn\u001b[0m \u001b[0mnew_m\u001b[0m\u001b[0;34m\u001b[0m\u001b[0;34m\u001b[0m\u001b[0m\n",
      "\u001b[0;31mValueError\u001b[0m: operands could not be broadcast together with shapes (14,) (13,) "
     ]
    }
   ],
   "source": [
    "m,c=run()"
   ]
  },
  {
   "cell_type": "code",
   "execution_count": 112,
   "metadata": {},
   "outputs": [
    {
     "name": "stdout",
     "output_type": "stream",
     "text": [
      "M [-0.24674363  0.22328546 -0.27589226  0.21912027 -0.23168478  0.61636971\n",
      " -0.15992011  0.13193172 -0.14973142 -0.23053021 -0.34710696  0.21411694\n",
      " -0.55731744]\n",
      "C 2.1539026981649236\n"
     ]
    }
   ],
   "source": [
    "print('M',m)\n",
    "print('C',c)"
   ]
  },
  {
   "cell_type": "code",
   "execution_count": 113,
   "metadata": {},
   "outputs": [],
   "source": [
    "def predict(train_data, m, c):\n",
    "    r = train_data.shape[0]\n",
    "    pred = np.zeros(r)\n",
    "    \n",
    "    for i in range(r):\n",
    "        X = train_data[i,:]\n",
    "        pred[i] = (m * X).sum() + c\n",
    "        \n",
    "    return pred"
   ]
  },
  {
   "cell_type": "code",
   "execution_count": 114,
   "metadata": {},
   "outputs": [],
   "source": [
    "predictions = predict(test_data, m, c)"
   ]
  },
  {
   "cell_type": "code",
   "execution_count": null,
   "metadata": {},
   "outputs": [],
   "source": [
    "np.savetxt(\"predictions.csv\",predictions,fmt=\"%.5f\")"
   ]
  },
  {
   "cell_type": "code",
   "execution_count": 115,
   "metadata": {},
   "outputs": [
    {
     "data": {
      "text/plain": [
       "array([-2.21263177,  4.14861104,  2.03086701,  3.95892667,  1.97520067,\n",
       "       -1.95723131,  3.93791042,  2.96563182,  1.74038779,  2.72068144,\n",
       "        3.36891029,  1.65175581,  3.09415975,  2.51644956,  5.54892586,\n",
       "        4.00367975,  3.35809761,  3.42393878,  3.40406868,  4.11719386,\n",
       "        2.22863935,  1.69142456,  3.2406873 ,  5.62701483,  6.06264129,\n",
       "       -0.79304964,  2.11005768,  4.88118913,  2.62646471,  4.29609901,\n",
       "        1.65452094,  3.22959767,  2.44330394,  3.38913232, -0.97782939,\n",
       "        3.31881772,  3.90038735,  1.69759504,  3.74027841, -2.06659464,\n",
       "       -2.90826093,  4.3396865 ,  5.36796596,  1.09170445,  0.45023517,\n",
       "       -3.47139739,  5.39889112,  2.88073797,  6.19496006, -0.35607219,\n",
       "       -0.5524063 ,  7.00318203, -0.26087577,  1.67803665,  1.42636783,\n",
       "        2.71084933,  1.79317661,  2.76423621,  0.95977437, -0.34668249,\n",
       "       -1.59456843,  3.31946454,  3.07451369,  3.3533511 , -0.60459642,\n",
       "       -0.95599689,  4.46956034, -0.40347309,  3.13683908,  1.13252525,\n",
       "        3.83402798,  2.01885208,  0.46274431, -2.94977611,  6.51413693,\n",
       "        3.49430177,  4.24298978,  3.83429009, -0.82940662,  6.15540694,\n",
       "        0.14728977,  2.01629555,  3.14592106,  0.78319207, -0.22580672,\n",
       "        4.7161918 ,  4.34216825, -2.69196665,  1.26570318, -0.0435421 ,\n",
       "        2.86215972,  1.63747964,  1.62456584, -1.19407985,  2.18562013,\n",
       "        2.08386505,  7.0717381 ,  0.88541871,  5.71636557,  4.53253469,\n",
       "        3.05250059,  3.00703779,  3.56518378,  4.03337628, -0.61495054,\n",
       "        3.23168532,  3.22808407,  6.79596404,  3.65185279, -0.90392459,\n",
       "        5.11797073, -3.94540627,  0.60175022, -1.12557609,  5.21324487,\n",
       "        1.40346661,  2.4106901 ,  3.10916674,  3.34220741,  0.58623867,\n",
       "        0.99022974,  5.1174299 ,  2.54225349,  3.14747203,  4.27628855,\n",
       "        1.59979322, -0.33108753])"
      ]
     },
     "execution_count": 115,
     "metadata": {},
     "output_type": "execute_result"
    }
   ],
   "source": [
    "predictions"
   ]
  },
  {
   "cell_type": "code",
   "execution_count": null,
   "metadata": {},
   "outputs": [],
   "source": []
  }
 ],
 "metadata": {
  "kernelspec": {
   "display_name": "Python 3",
   "language": "python",
   "name": "python3"
  },
  "language_info": {
   "codemirror_mode": {
    "name": "ipython",
    "version": 3
   },
   "file_extension": ".py",
   "mimetype": "text/x-python",
   "name": "python",
   "nbconvert_exporter": "python",
   "pygments_lexer": "ipython3",
   "version": "3.8.5"
  }
 },
 "nbformat": 4,
 "nbformat_minor": 4
}
