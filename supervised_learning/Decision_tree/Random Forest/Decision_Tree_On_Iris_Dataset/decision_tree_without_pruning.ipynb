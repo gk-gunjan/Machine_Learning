{
 "cells": [
  {
   "cell_type": "markdown",
   "metadata": {},
   "source": [
    "# #               DECISION TREE IMPLEMENTATION ON IRIS DATASET"
   ]
  },
  {
   "cell_type": "code",
   "execution_count": 1,
   "metadata": {},
   "outputs": [
    {
     "data": {
      "text/plain": [
       "(150, 1)"
      ]
     },
     "execution_count": 1,
     "metadata": {},
     "output_type": "execute_result"
    }
   ],
   "source": [
    "import pandas as pd\n",
    "import numpy as np\n",
    "import math as ma\n",
    "from sklearn.model_selection import train_test_split\n",
    "from sklearn import datasets\n",
    "iris=datasets.load_iris()\n",
    "df=pd.DataFrame(iris.data)\n",
    "df.columns=['sl','sw','pl','pw']\n",
    "bf=pd.DataFrame(iris.target)\n",
    "bf.shape"
   ]
  },
  {
   "cell_type": "code",
   "execution_count": 2,
   "metadata": {},
   "outputs": [
    {
     "data": {
      "text/plain": [
       "Index(['sl', 'sw', 'pl', 'pw'], dtype='object')"
      ]
     },
     "execution_count": 2,
     "metadata": {},
     "output_type": "execute_result"
    }
   ],
   "source": [
    "features=df.columns\n",
    "features"
   ]
  },
  {
   "cell_type": "code",
   "execution_count": 3,
   "metadata": {},
   "outputs": [],
   "source": [
    "def count(y):\n",
    "    #iris_count=[0,0,0]\n",
    "    setosa=np.array(y[:])\n",
    "    iris_setosa=(setosa==0).sum()\n",
    "    virsicolor=np.array(y[:])\n",
    "    iris_virsicolor=(virsicolor==1).sum()\n",
    "    virginica=np.array(y[:])\n",
    "    iris_virginica=(virginica==2).sum()\n",
    "    return iris_setosa,iris_virsicolor,iris_virginica"
   ]
  },
  {
   "cell_type": "code",
   "execution_count": 4,
   "metadata": {},
   "outputs": [],
   "source": [
    "def entropy(y):\n",
    "    total=0\n",
    "    no_of_setosa,no_of_virsicolor,no_of_virginica=count(y)\n",
    "    length=no_of_setosa+no_of_virsicolor+no_of_virginica\n",
    "    p1=(no_of_setosa/length)\n",
    "    p2=(no_of_virsicolor/length)\n",
    "    p3=(no_of_virginica/length)\n",
    "    if(p1!=0):\n",
    "        total+=(p1*ma.log(p1,2))\n",
    "    if(p2!=0):\n",
    "        total+=(p2*ma.log(p2,2))\n",
    "    if(p3!=0):\n",
    "        total+=(p3*ma.log(p3,2))\n",
    "    if(not(total)):\n",
    "        return total\n",
    "\n",
    "    return -1*total\n",
    "    "
   ]
  },
  {
   "cell_type": "code",
   "execution_count": 5,
   "metadata": {},
   "outputs": [],
   "source": [
    "def split(y_split1,y_split2,y):\n",
    "    split_info=0\n",
    "    p1=(len(y_split1)/len(y))\n",
    "    p2=(len(y_split2)/len(y))\n",
    "    if(p1!=0):\n",
    "        split_info+=(p1*ma.log(p1,2))\n",
    "    if(p2!=0):\n",
    "        split_info+=(p2*ma.log(p2,2))\n",
    "    return -1*split_info"
   ]
  },
  {
   "cell_type": "code",
   "execution_count": 6,
   "metadata": {},
   "outputs": [],
   "source": [
    "def gain(info_gain,split_info):\n",
    "    value=(info_gain/split_info)\n",
    "    return value"
   ]
  },
  {
   "cell_type": "code",
   "execution_count": 7,
   "metadata": {},
   "outputs": [],
   "source": [
    "def feature_split(x,y,feature):\n",
    "    xt=np.array(x[feature])\n",
    "    temp_g=-1\n",
    "    temp_split=-1\n",
    "    for i in range(1,len(x)):\n",
    "        split_t=(xt[i-1]+xt[i])/2\n",
    "        x_split1=x[x[feature]>split_t]\n",
    "        x_split2=x[x[feature]<=split_t]\n",
    "        y_split1=y[x[feature]>split_t]\n",
    "        y_split2=y[x[feature]<=split_t]\n",
    "        final_entropy=0\n",
    "        initial_entropy=entropy(y)\n",
    "        entropy1=entropy(y_split1)\n",
    "        entropy2=entropy(y_split2)\n",
    "        final_entropy+=(entropy1*(len(y_split1)/len(y)))\n",
    "        final_entropy+=(entropy2*(len(y_split2)/len(y)))\n",
    "        info_gain=(initial_entropy-final_entropy)\n",
    "        split_info=split(y_split1,y_split2,y)\n",
    "        gain_r=gain(info_gain,split_info)\n",
    "        if(gain_r>temp_g):\n",
    "            temp_g=gain_r\n",
    "            temp_split=split_t\n",
    "    return temp_g,temp_split\n",
    "            \n",
    "        \n",
    "        "
   ]
  },
  {
   "cell_type": "code",
   "execution_count": 8,
   "metadata": {},
   "outputs": [],
   "source": [
    "def build_tree(x,y,split_features,lvl):\n",
    "    no_of_features_left=len(features)\n",
    "    length_of_data=len(x)\n",
    "    no_of_setosa,no_of_virsicolor,no_of_virginica=count(y)\n",
    "    print(\"Level :\",lvl)\n",
    "    print(\"Count of iris_setosa :\",no_of_setosa)\n",
    "    print(\"Count of iris_virsicolor :\",no_of_virsicolor)\n",
    "    print(\"Count of iris_virginica :\",no_of_virginica)\n",
    "    print(\"Current Entropy :\",entropy(y))\n",
    "    \n",
    "    if(no_of_features_left==0 or no_of_setosa==length_of_data or no_of_virsicolor==length_of_data or no_of_virginica==length_of_data ):\n",
    "        print(\"Reached Leaf Node\")\n",
    "        print()\n",
    "        return\n",
    "    else:\n",
    "        max_g=-1\n",
    "        split_value=0\n",
    "        for feature in features:\n",
    "            temp_g,temp_split_value=feature_split(x,y,feature)\n",
    "            if(max_g<temp_g):\n",
    "                max_g=temp_g\n",
    "                split_value=temp_split_value\n",
    "                split_feature=feature\n",
    "        print(\"Splitting on feature\",split_feature,\"with gain ratio\",max_g)\n",
    "        print()\n",
    "        x1=x[x[split_feature]>split_value]\n",
    "        x2=x[x[split_feature]<=split_value]\n",
    "        y1=y[x[split_feature]>split_value]\n",
    "        y2=y[x[split_feature]<=split_value]\n",
    "        \n",
    "        build_tree(x1,y1,features,lvl+1)\n",
    "        build_tree(x2,y2,features,lvl+1)"
   ]
  },
  {
   "cell_type": "code",
   "execution_count": 9,
   "metadata": {},
   "outputs": [
    {
     "name": "stdout",
     "output_type": "stream",
     "text": [
      "Level : 0\n",
      "Count of iris_setosa : 50\n",
      "Count of iris_virsicolor : 50\n",
      "Count of iris_virginica : 50\n",
      "Current Entropy : 1.584962500721156\n",
      "Splitting on feature pw with gain ratio 0.9999999999999999\n",
      "\n",
      "Level : 1\n",
      "Count of iris_setosa : 0\n",
      "Count of iris_virsicolor : 50\n",
      "Count of iris_virginica : 50\n",
      "Current Entropy : 1.0\n",
      "Splitting on feature pw with gain ratio 0.6933647985912662\n",
      "\n",
      "Level : 2\n",
      "Count of iris_setosa : 0\n",
      "Count of iris_virsicolor : 1\n",
      "Count of iris_virginica : 45\n",
      "Current Entropy : 0.15109697051711368\n",
      "Splitting on feature pl with gain ratio 0.2622302372762406\n",
      "\n",
      "Level : 3\n",
      "Count of iris_setosa : 0\n",
      "Count of iris_virsicolor : 0\n",
      "Count of iris_virginica : 43\n",
      "Current Entropy : 0.0\n",
      "Reached Leaf Node\n",
      "\n",
      "Level : 3\n",
      "Count of iris_setosa : 0\n",
      "Count of iris_virsicolor : 1\n",
      "Count of iris_virginica : 2\n",
      "Current Entropy : 0.9182958340544896\n",
      "Splitting on feature sw with gain ratio 1.0\n",
      "\n",
      "Level : 4\n",
      "Count of iris_setosa : 0\n",
      "Count of iris_virsicolor : 1\n",
      "Count of iris_virginica : 0\n",
      "Current Entropy : 0.0\n",
      "Reached Leaf Node\n",
      "\n",
      "Level : 4\n",
      "Count of iris_setosa : 0\n",
      "Count of iris_virsicolor : 0\n",
      "Count of iris_virginica : 2\n",
      "Current Entropy : 0.0\n",
      "Reached Leaf Node\n",
      "\n",
      "Level : 2\n",
      "Count of iris_setosa : 0\n",
      "Count of iris_virsicolor : 49\n",
      "Count of iris_virginica : 5\n",
      "Current Entropy : 0.44506485705083865\n"
     ]
    },
    {
     "name": "stderr",
     "output_type": "stream",
     "text": [
      "<ipython-input-4-761065384df5>:5: RuntimeWarning: invalid value encountered in long_scalars\n",
      "  p1=(no_of_setosa/length)\n",
      "<ipython-input-4-761065384df5>:6: RuntimeWarning: invalid value encountered in long_scalars\n",
      "  p2=(no_of_virsicolor/length)\n",
      "<ipython-input-4-761065384df5>:7: RuntimeWarning: invalid value encountered in long_scalars\n",
      "  p3=(no_of_virginica/length)\n",
      "<ipython-input-4-761065384df5>:5: RuntimeWarning: invalid value encountered in long_scalars\n",
      "  p1=(no_of_setosa/length)\n",
      "<ipython-input-4-761065384df5>:6: RuntimeWarning: invalid value encountered in long_scalars\n",
      "  p2=(no_of_virsicolor/length)\n",
      "<ipython-input-4-761065384df5>:7: RuntimeWarning: invalid value encountered in long_scalars\n",
      "  p3=(no_of_virginica/length)\n",
      "<ipython-input-4-761065384df5>:5: RuntimeWarning: invalid value encountered in long_scalars\n",
      "  p1=(no_of_setosa/length)\n",
      "<ipython-input-4-761065384df5>:6: RuntimeWarning: invalid value encountered in long_scalars\n",
      "  p2=(no_of_virsicolor/length)\n",
      "<ipython-input-4-761065384df5>:7: RuntimeWarning: invalid value encountered in long_scalars\n",
      "  p3=(no_of_virginica/length)\n",
      "<ipython-input-4-761065384df5>:5: RuntimeWarning: invalid value encountered in long_scalars\n",
      "  p1=(no_of_setosa/length)\n",
      "<ipython-input-4-761065384df5>:6: RuntimeWarning: invalid value encountered in long_scalars\n",
      "  p2=(no_of_virsicolor/length)\n",
      "<ipython-input-4-761065384df5>:7: RuntimeWarning: invalid value encountered in long_scalars\n",
      "  p3=(no_of_virginica/length)\n"
     ]
    },
    {
     "name": "stdout",
     "output_type": "stream",
     "text": [
      "Splitting on feature pl with gain ratio 0.6066178220203009\n",
      "\n",
      "Level : 3\n",
      "Count of iris_setosa : 0\n",
      "Count of iris_virsicolor : 0\n",
      "Count of iris_virginica : 2\n",
      "Current Entropy : 0.0\n",
      "Reached Leaf Node\n",
      "\n",
      "Level : 3\n",
      "Count of iris_setosa : 0\n",
      "Count of iris_virsicolor : 49\n",
      "Count of iris_virginica : 3\n",
      "Current Entropy : 0.31821529768323314\n",
      "Splitting on feature pl with gain ratio 0.2720453440631924\n",
      "\n",
      "Level : 4\n",
      "Count of iris_setosa : 0\n",
      "Count of iris_virsicolor : 2\n",
      "Count of iris_virginica : 2\n",
      "Current Entropy : 1.0\n",
      "Splitting on feature pw with gain ratio 1.0\n",
      "\n",
      "Level : 5\n",
      "Count of iris_setosa : 0\n",
      "Count of iris_virsicolor : 2\n",
      "Count of iris_virginica : 0\n",
      "Current Entropy : 0.0\n",
      "Reached Leaf Node\n",
      "\n",
      "Level : 5\n",
      "Count of iris_setosa : 0\n",
      "Count of iris_virsicolor : 0\n",
      "Count of iris_virginica : 2\n",
      "Current Entropy : 0.0\n",
      "Reached Leaf Node\n",
      "\n",
      "Level : 4\n",
      "Count of iris_setosa : 0\n",
      "Count of iris_virsicolor : 47\n",
      "Count of iris_virginica : 1\n",
      "Current Entropy : 0.14609425012013633\n",
      "Splitting on feature pw with gain ratio 0.26298064861912657\n",
      "\n",
      "Level : 5\n",
      "Count of iris_setosa : 0\n",
      "Count of iris_virsicolor : 2\n",
      "Count of iris_virginica : 1\n",
      "Current Entropy : 0.9182958340544896\n",
      "Splitting on feature sl with gain ratio 1.0\n",
      "\n",
      "Level : 6\n",
      "Count of iris_setosa : 0\n",
      "Count of iris_virsicolor : 2\n",
      "Count of iris_virginica : 0\n",
      "Current Entropy : 0.0\n",
      "Reached Leaf Node\n",
      "\n",
      "Level : 6\n",
      "Count of iris_setosa : 0\n",
      "Count of iris_virsicolor : 0\n",
      "Count of iris_virginica : 1\n",
      "Current Entropy : 0.0\n",
      "Reached Leaf Node\n",
      "\n",
      "Level : 5\n",
      "Count of iris_setosa : 0\n",
      "Count of iris_virsicolor : 45\n",
      "Count of iris_virginica : 0\n",
      "Current Entropy : 0.0\n",
      "Reached Leaf Node\n",
      "\n",
      "Level : 1\n",
      "Count of iris_setosa : 50\n",
      "Count of iris_virsicolor : 0\n",
      "Count of iris_virginica : 0\n",
      "Current Entropy : 0.0\n",
      "Reached Leaf Node\n",
      "\n"
     ]
    }
   ],
   "source": [
    "build_tree(df,bf,features,0)"
   ]
  },
  {
   "cell_type": "code",
   "execution_count": null,
   "metadata": {},
   "outputs": [],
   "source": []
  }
 ],
 "metadata": {
  "kernelspec": {
   "display_name": "Python 3",
   "language": "python",
   "name": "python3"
  },
  "language_info": {
   "codemirror_mode": {
    "name": "ipython",
    "version": 3
   },
   "file_extension": ".py",
   "mimetype": "text/x-python",
   "name": "python",
   "nbconvert_exporter": "python",
   "pygments_lexer": "ipython3",
   "version": "3.8.5"
  }
 },
 "nbformat": 4,
 "nbformat_minor": 4
}
