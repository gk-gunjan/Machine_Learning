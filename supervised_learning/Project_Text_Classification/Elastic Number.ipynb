{
 "cells": [
  {
   "cell_type": "code",
   "execution_count": 77,
   "metadata": {},
   "outputs": [],
   "source": [
    "def check_num(n):\n",
    "    num=list(str(n))\n",
    "    n1=list(str(n))\n",
    "    n2=list(str(n))\n",
    "    n1.sort()\n",
    "    n2.sort(reverse=True)\n",
    "    if num!=n1 and num!=n2:\n",
    "        return True\n",
    "    return False\n",
    "\n",
    "def elastic():\n",
    "    n=1\n",
    "    count=0\n",
    "    while True:\n",
    "        if check_num(n):\n",
    "            count+=1\n",
    "        if count/n>=0.082:\n",
    "            return n\n",
    "        n+=1"
   ]
  },
  {
   "cell_type": "code",
   "execution_count": 78,
   "metadata": {},
   "outputs": [
    {
     "data": {
      "text/plain": [
       "109"
      ]
     },
     "execution_count": 78,
     "metadata": {},
     "output_type": "execute_result"
    }
   ],
   "source": [
    "elastic()"
   ]
  },
  {
   "cell_type": "code",
   "execution_count": 70,
   "metadata": {},
   "outputs": [
    {
     "name": "stdout",
     "output_type": "stream",
     "text": [
      "1\n"
     ]
    }
   ],
   "source": [
    "count=0\n",
    "n=1\n",
    "per=1\n",
    "total=0\n",
    "while True:\n",
    "    total+=1\n",
    "    if check_num(n):\n",
    "        count+=1\n",
    "    per=count/total\n",
    "    n+=1\n",
    "print(n)\n"
   ]
  },
  {
   "cell_type": "code",
   "execution_count": null,
   "metadata": {},
   "outputs": [],
   "source": []
  }
 ],
 "metadata": {
  "kernelspec": {
   "display_name": "Python 3",
   "language": "python",
   "name": "python3"
  },
  "language_info": {
   "codemirror_mode": {
    "name": "ipython",
    "version": 3
   },
   "file_extension": ".py",
   "mimetype": "text/x-python",
   "name": "python",
   "nbconvert_exporter": "python",
   "pygments_lexer": "ipython3",
   "version": "3.8.5"
  }
 },
 "nbformat": 4,
 "nbformat_minor": 4
}
